{
 "cells": [
  {
   "cell_type": "markdown",
   "metadata": {},
   "source": [
    "# Gradient Descent\n",
    "\n",
    "- Data'dan bilgi öğrenerek bunun makinelere implemente edilmesidir.\n",
    "- Bu teknolojilerin temelinde olan algoritmalardan biri **Gradient Descent** 'dir"
   ]
  },
  {
   "cell_type": "markdown",
   "metadata": {},
   "source": [
    "> Dataseti: \n",
    "\n",
    "###  __X1______X2_____X3________Y\n",
    "\n",
    "### __18.0_____8_____307.0_____**450**\n",
    "\n",
    "### __15.0_____8_____429.0_____**345**\n",
    "\n",
    "### __17.0_____8_____455.0_____**232**\n"
   ]
  },
  {
   "cell_type": "markdown",
   "metadata": {},
   "source": [
    "Yukarıda ki gibi bir datasetimiz olsun.\n",
    "\n",
    "Verilere bakarak sonuc olarak bir değer elde ediliyor (y). \n",
    "\n",
    "x1, x2, .. verilerine bakaraka bu kişinin 450 maaş alması gerekir gibi."
   ]
  },
  {
   "cell_type": "markdown",
   "metadata": {},
   "source": [
    "Bu Algoritma:\n",
    "- Parametre - Kat sayı tahmini yapar"
   ]
  },
  {
   "cell_type": "markdown",
   "metadata": {},
   "source": [
    "## Gradient Descent Algoritması"
   ]
  },
  {
   "cell_type": "markdown",
   "metadata": {},
   "source": [
    "Datasetindeki columnları (x1,x2,x3) ağırlandırarak bir fonksiyona oturtalım.\n",
    "\n",
    "> a1.x1 + a2.x2 + a3.x3 + C = Y\n",
    "\n",
    "**C** : hata sayısı da denir. Doğrunun eksende kaymasını sağlar. Modelin daha doğru öğrenilmesi için esneklik sağlayan katsayıdır."
   ]
  },
  {
   "cell_type": "markdown",
   "metadata": {},
   "source": [
    "#### 1. En doğru katsayı nasıl bulunur?\n",
    "#### 2. En doğru regresyon doğrusu nasıl çizilir?"
   ]
  },
  {
   "cell_type": "markdown",
   "metadata": {},
   "source": [
    "Regresyonu, elimizdeki datalardan, gelecek olan yeni datayı tahmin etmek için kullanırız"
   ]
  },
  {
   "cell_type": "markdown",
   "metadata": {},
   "source": [
    "Gerçekleşen veri ile regresyon ile doğrusu çizilen regresyon tahminleyici bir linear doğru var.\n",
    "\n",
    "> Gerçekleşen veri ile doğru üzerinde tahminlenmiş olan veri arasındaki fark **tahminleme hatasını** verir.\n",
    "\n",
    "Yeni gelen verileri tahminleyeceğimiz datalara ****test datası**** denir. Test datası modelin doğruluğunu ölçmek için kullanılır."
   ]
  },
  {
   "cell_type": "markdown",
   "metadata": {},
   "source": [
    "##### Amaç: \n",
    "\n",
    "* Doğru (Predicted value) ile gerçekleşmiş verilerin (Actual value) arasındaki hataları toplamını minimum yapan doğru çizmek.\n",
    "\n",
    "* En az hatayla gelecek verileri bulunan modelde tahmin edebilmek.\n",
    "\n",
    "* Tahmin hatalarını minimum hale getiren alfa katsayılarını bulmak."
   ]
  },
  {
   "cell_type": "markdown",
   "metadata": {},
   "source": [
    "## Gradient Descent'in sayısal çözümü"
   ]
  },
  {
   "cell_type": "markdown",
   "metadata": {},
   "source": [
    "- f(x) = x²-2x+2 \n",
    "     > = (x-1)²+1\n",
    "\n",
    "***Step 1 : Min noktayı bul.***\n",
    "* Bir fonksiyonun türevi alınıp 0 ' a eşitlenirse, fonksiyonun minimum noktası bulunur\n",
    "\n",
    "> f '(x) = 2x-2\n",
    "\n",
    "> 0 = 2x-2\n",
    "\n",
    "> x=1"
   ]
  },
  {
   "cell_type": "markdown",
   "metadata": {},
   "source": [
    "Aynı sonucu Gradient Descent ile bulma :\n",
    "\n",
    "- f(x) fonksiyonunu minimum yapan x değerini bulacağız.\n",
    "- İlk olarak min yapan değeri tahminleyelim.\n",
    "\n",
    "***Step 2 : Tahmini x değeri ver y değerini bul***\n",
    "\n",
    "***x = 3 :***\n",
    "\n",
    "f '(x) = 2x-2\n",
    "\n",
    "f '(3) = 2*3-2\n",
    "\n",
    "= 4\n",
    "\n",
    "x = 3 , y = 4 oldu.\n",
    "\n",
    "\n"
   ]
  },
  {
   "cell_type": "markdown",
   "metadata": {},
   "source": [
    "***Step 3:***\n",
    "\n",
    "- Koordinat sisteminde x=3, y=4 'ü çiz.\n",
    "\n",
    "- Min değeri koordinat sisteminde sıfırla, ve linear bir grafik çiz\n",
    "\n",
    "- x=3, y=4 noktasını bul, min değere yaklaştırmak için tahmini değeri arttırmalı mı azaltmalı mı sonucuna var.\n",
    "\n",
    "- x=3,y=4 grafiğinde x değerinin azaltılması sonucuna varılır.\n",
    "\n",
    "- Bir sonraki verilecek değeri bulabilmek için: \n",
    "\n",
    "        - learning rate = 0.2 olsun\n",
    "        \n",
    "        - deger = ilk tahmin - learning rate * y degeri\n",
    "        \n",
    "        - deger = 3 - 0.2 * 4\n",
    "        \n",
    "        - deger = 2,2 "
   ]
  },
  {
   "cell_type": "markdown",
   "metadata": {},
   "source": [
    "***Step 4 : degeri türevde yerine koy***\n",
    "\n",
    "x = 2.2\n",
    "\n",
    "f '(x) = 2x-2\n",
    "\n",
    "f '(2.2) = 2.(2.2)-2\n",
    "\n",
    "f '(2.2) = 2.4 \n",
    "\n",
    "- learning rate = 0.2\n",
    "\n",
    "- deger = ilk tahmin - learning rate * y degeri\n",
    "\n",
    "- deger = 2.2 - 0.2*2.4\n",
    "\n",
    "- deger = 1.72 \n"
   ]
  },
  {
   "cell_type": "markdown",
   "metadata": {},
   "source": [
    "***Step 5***\n",
    "\n",
    "Tekrardan yapılır.\n",
    "\n",
    "x = 1.72\n",
    "\n",
    "f '(x) = 2x-2\n",
    "\n",
    "f '(1.72) = 2.(1.72)-2\n",
    "\n",
    "f '(1.72) = 1.44\n",
    "\n",
    "- learning rate = 0.2\n",
    "\n",
    "- deger = ilk tahmin - learning rate * y degeri\n",
    "\n",
    "- deger = 1.72 - 0.2*1.44\n",
    "\n",
    "- deger = 1.432 \n",
    "\n",
    "\n",
    "- Görüldüğü gibi Gradient Descent alg.'sı minimum değere doğru bizi yaklaştırdı.\n",
    "\n"
   ]
  },
  {
   "cell_type": "markdown",
   "metadata": {},
   "source": [
    "### Y fonksiyonunu maximum yapan x'i bulunmak istenildiğinde\n",
    "\n",
    "- learning rate = 0.2\n",
    "\n",
    "- deger = ilk tahmin + learning rate * y degeri\n",
    "\n",
    "       - Dikkat: Deger sırayla 15 , 16, 17, 16 gelirse max degerin 17 oldugu anlasılır."
   ]
  },
  {
   "cell_type": "code",
   "execution_count": null,
   "metadata": {},
   "outputs": [],
   "source": []
  }
 ],
 "metadata": {
  "kernelspec": {
   "display_name": "Python 3",
   "language": "python",
   "name": "python3"
  },
  "language_info": {
   "codemirror_mode": {
    "name": "ipython",
    "version": 3
   },
   "file_extension": ".py",
   "mimetype": "text/x-python",
   "name": "python",
   "nbconvert_exporter": "python",
   "pygments_lexer": "ipython3",
   "version": "3.7.3"
  }
 },
 "nbformat": 4,
 "nbformat_minor": 2
}
